{
 "cells": [
  {
   "cell_type": "markdown",
   "metadata": {
    "colab_type": "text",
    "id": "68Zr_6L6ZZzF"
   },
   "source": [
    "# Case Convolutional Nets"
   ]
  },
  {
   "cell_type": "code",
   "execution_count": null,
   "metadata": {
    "colab": {
     "autoexec": {
      "startup": false,
      "wait_interval": 0
     }
    },
    "colab_type": "code",
    "id": "0_4mYbCqV_Fz"
   },
   "outputs": [],
   "source": [
    "!pip install -q Keras"
   ]
  },
  {
   "cell_type": "code",
   "execution_count": null,
   "metadata": {
    "colab": {
     "autoexec": {
      "startup": false,
      "wait_interval": 0
     }
    },
    "colab_type": "code",
    "id": "N4Yn1ublWokR"
   },
   "outputs": [],
   "source": [
    "%matplotlib inline\n",
    "import matplotlib.pyplot as plt\n",
    "import numpy as np"
   ]
  },
  {
   "cell_type": "code",
   "execution_count": 3,
   "metadata": {
    "colab": {
     "autoexec": {
      "startup": false,
      "wait_interval": 0
     },
     "base_uri": "https://localhost:8080/",
     "height": 34
    },
    "colab_type": "code",
    "executionInfo": {
     "elapsed": 1995,
     "status": "ok",
     "timestamp": 1528071895132,
     "user": {
      "displayName": "Jigar Bandaria",
      "photoUrl": "https://lh3.googleusercontent.com/a/default-user=s128",
      "userId": "107319791657086616041"
     },
     "user_tz": 240
    },
    "id": "FlW649AYWvhD",
    "outputId": "69fce812-4598-47d0-f731-30d785d9b6a3"
   },
   "outputs": [
    {
     "name": "stderr",
     "output_type": "stream",
     "text": [
      "Using TensorFlow backend.\n"
     ]
    }
   ],
   "source": [
    "import keras\n",
    "from keras.datasets import mnist\n",
    "from keras.models import Sequential, Model\n",
    "from keras.layers import Dense, Dropout, Flatten\n",
    "from keras.layers import Conv2D, MaxPooling2D\n",
    "from keras import backend as K\n",
    "from keras.utils import to_categorical\n"
   ]
  },
  {
   "cell_type": "code",
   "execution_count": 4,
   "metadata": {
    "colab": {
     "autoexec": {
      "startup": false,
      "wait_interval": 0
     },
     "base_uri": "https://localhost:8080/",
     "height": 51
    },
    "colab_type": "code",
    "executionInfo": {
     "elapsed": 1375,
     "status": "ok",
     "timestamp": 1528071896526,
     "user": {
      "displayName": "Jigar Bandaria",
      "photoUrl": "https://lh3.googleusercontent.com/a/default-user=s128",
      "userId": "107319791657086616041"
     },
     "user_tz": 240
    },
    "id": "FFPK9QkcXP3-",
    "outputId": "ca90a682-c88d-4e66-90c9-c71a72013660"
   },
   "outputs": [
    {
     "name": "stdout",
     "output_type": "stream",
     "text": [
      "Downloading data from https://s3.amazonaws.com/img-datasets/mnist.npz\n",
      "11493376/11490434 [==============================] - 1s 0us/step\n"
     ]
    }
   ],
   "source": [
    "(X_train, y_train), (X_test, y_test) = mnist.load_data()"
   ]
  },
  {
   "cell_type": "code",
   "execution_count": null,
   "metadata": {
    "colab": {
     "autoexec": {
      "startup": false,
      "wait_interval": 0
     }
    },
    "colab_type": "code",
    "id": "Lnq2QB2cmJ8m"
   },
   "outputs": [],
   "source": [
    "def plot_images(images, labels):\n",
    "    fig, axes = plt.subplots(5,5)\n",
    "    fig.subplots_adjust(hspace = 0.5,wspace = 0.5)\n",
    "    \n",
    "    for i,ax in zip(np.random.choice(range(images.shape[0]),25),axes.flat):\n",
    "        ax.imshow(images[i].reshape(28,28),cmap='binary')\n",
    "        ax.set_xlabel('label :{}'.format(labels[i]))\n",
    "        ax.set_xticks([])\n",
    "        ax.set_yticks([])"
   ]
  },
  {
   "cell_type": "code",
   "execution_count": 6,
   "metadata": {
    "colab": {
     "autoexec": {
      "startup": false,
      "wait_interval": 0
     },
     "base_uri": "https://localhost:8080/",
     "height": 262
    },
    "colab_type": "code",
    "executionInfo": {
     "elapsed": 1470,
     "status": "ok",
     "timestamp": 1528071898376,
     "user": {
      "displayName": "Jigar Bandaria",
      "photoUrl": "https://lh3.googleusercontent.com/a/default-user=s128",
      "userId": "107319791657086616041"
     },
     "user_tz": 240
    },
    "id": "neCJtnR6mS_O",
    "outputId": "0c83943f-8bf2-4320-d8a1-5bad955e1113"
   },
   "outputs": [
    {
     "data": {
      "image/png": "[encoded data removed]",
      "text/plain": [
       "<matplotlib.figure.Figure at 0x7f79f7dec710>"
      ]
     },
     "metadata": {
      "tags": []
     },
     "output_type": "display_data"
    }
   ],
   "source": [
    "plot_images(X_train,y_train)"
   ]
  },
  {
   "cell_type": "code",
   "execution_count": null,
   "metadata": {
    "colab": {
     "autoexec": {
      "startup": false,
      "wait_interval": 0
     }
    },
    "colab_type": "code",
    "id": "uqPxJ1JEYD0-"
   },
   "outputs": [],
   "source": [
    "batch_size = 128\n",
    "num_classes = 10\n",
    "epochs = 30\n",
    "img_rows, img_cols = 28, 28"
   ]
  },
  {
   "cell_type": "code",
   "execution_count": 8,
   "metadata": {
    "colab": {
     "autoexec": {
      "startup": false,
      "wait_interval": 0
     },
     "base_uri": "https://localhost:8080/",
     "height": 85
    },
    "colab_type": "code",
    "executionInfo": {
     "elapsed": 877,
     "status": "ok",
     "timestamp": 1528071899609,
     "user": {
      "displayName": "Jigar Bandaria",
      "photoUrl": "https://lh3.googleusercontent.com/a/default-user=s128",
      "userId": "107319791657086616041"
     },
     "user_tz": 240
    },
    "id": "Z6AOk0P8ZM9f",
    "outputId": "b89a58ab-ff4b-4f42-b911-549459f26199"
   },
   "outputs": [
    {
     "name": "stdout",
     "output_type": "stream",
     "text": [
      "Train images : (60000, 28, 28, 1)\n",
      "Test images : (10000, 28, 28, 1)\n",
      "Train labels : (60000, 10)\n",
      "Test labes : (10000, 10)\n"
     ]
    }
   ],
   "source": [
    "X_train = X_train.reshape((X_train.shape[0], img_rows , img_cols, 1))\n",
    "X_test =  X_test.reshape((X_test.shape[0] , img_rows , img_cols, 1))\n",
    "\n",
    "\n",
    "# Scale\n",
    "X_train = X_train.astype('float32')\n",
    "X_test = X_test.astype('float32')\n",
    "\n",
    "X_train /= 255\n",
    "X_test /= 255\n",
    "\n",
    "\n",
    "y_train = to_categorical(y_train, num_classes)\n",
    "y_test = to_categorical(y_test, num_classes)\n",
    "\n",
    "print('Train images : {}'.format(X_train.shape))\n",
    "print('Test images : {}'.format(X_test.shape))\n",
    "print('Train labels : {}'.format(y_train.shape))\n",
    "print('Test labes : {}'.format(y_test.shape))"
   ]
  },
  {
   "cell_type": "markdown",
   "metadata": {
    "colab_type": "text",
    "id": "H2tCiPZqas8j"
   },
   "source": [
    "# Model"
   ]
  },
  {
   "cell_type": "code",
   "execution_count": 9,
   "metadata": {
    "colab": {
     "autoexec": {
      "startup": false,
      "wait_interval": 0
     },
     "base_uri": "https://localhost:8080/",
     "height": 442
    },
    "colab_type": "code",
    "executionInfo": {
     "elapsed": 533,
     "status": "ok",
     "timestamp": 1528071900218,
     "user": {
      "displayName": "Jigar Bandaria",
      "photoUrl": "https://lh3.googleusercontent.com/a/default-user=s128",
      "userId": "107319791657086616041"
     },
     "user_tz": 240
    },
    "id": "fXZpqLfmax8b",
    "outputId": "85df5311-cf61-4835-c1c8-892b52690c75"
   },
   "outputs": [
    {
     "name": "stdout",
     "output_type": "stream",
     "text": [
      "_________________________________________________________________\n",
      "Layer (type)                 Output Shape              Param #   \n",
      "=================================================================\n",
      "conv2d_1 (Conv2D)            (None, 28, 28, 32)        320       \n",
      "_________________________________________________________________\n",
      "max_pooling2d_1 (MaxPooling2 (None, 14, 14, 32)        0         \n",
      "_________________________________________________________________\n",
      "conv2d_2 (Conv2D)            (None, 14, 14, 64)        18496     \n",
      "_________________________________________________________________\n",
      "max_pooling2d_2 (MaxPooling2 (None, 7, 7, 64)          0         \n",
      "_________________________________________________________________\n",
      "dropout_1 (Dropout)          (None, 7, 7, 64)          0         \n",
      "_________________________________________________________________\n",
      "flatten_1 (Flatten)          (None, 3136)              0         \n",
      "_________________________________________________________________\n",
      "dense_1 (Dense)              (None, 128)               401536    \n",
      "_________________________________________________________________\n",
      "dropout_2 (Dropout)          (None, 128)               0         \n",
      "_________________________________________________________________\n",
      "dense_2 (Dense)              (None, 10)                1290      \n",
      "=================================================================\n",
      "Total params: 421,642\n",
      "Trainable params: 421,642\n",
      "Non-trainable params: 0\n",
      "_________________________________________________________________\n"
     ]
    }
   ],
   "source": [
    "input_shape = (img_rows, img_cols, 1)\n",
    "model = Sequential()\n",
    "model.add(Conv2D(32, (3,3), \n",
    "                 activation='relu', \n",
    "                 input_shape=input_shape,\n",
    "                 padding='same'))\n",
    "model.add(MaxPooling2D((2,2)))\n",
    "model.add(Conv2D(64, (3,3),activation='relu',\n",
    "                padding='same'))\n",
    "model.add(MaxPooling2D((2,2)))\n",
    "model.add(Dropout(0.25))\n",
    "model.add(Flatten())\n",
    "model.add(Dense(128, activation='relu'))\n",
    "model.add(Dropout(0.5))\n",
    "model.add(Dense(num_classes, activation='softmax'))\n",
    "\n",
    "\n",
    "# Compute loss and update\n",
    "model.compile(loss=keras.losses.categorical_crossentropy,\n",
    "             optimizer=keras.optimizers.SGD(lr=0.5),\n",
    "             metrics=['accuracy'])\n",
    "model.summary()"
   ]
  },
  {
   "cell_type": "code",
   "execution_count": 10,
   "metadata": {
    "colab": {
     "autoexec": {
      "startup": false,
      "wait_interval": 0
     },
     "base_uri": "https://localhost:8080/",
     "height": 1074
    },
    "colab_type": "code",
    "executionInfo": {
     "elapsed": 2315070,
     "status": "ok",
     "timestamp": 1528074215354,
     "user": {
      "displayName": "Jigar Bandaria",
      "photoUrl": "https://lh3.googleusercontent.com/a/default-user=s128",
      "userId": "107319791657086616041"
     },
     "user_tz": 240
    },
    "id": "wv1dmcmga1-K",
    "outputId": "cdc6bba7-23cb-4264-9923-ba478d6a78e7"
   },
   "outputs": [
    {
     "name": "stdout",
     "output_type": "stream",
     "text": [
      "Epoch 1/30\n",
      "60000/60000 [==============================] - 77s 1ms/step - loss: 0.3653 - acc: 0.8840\n",
      "Epoch 2/30\n",
      "36096/60000 [=================>............] - ETA: 30s - loss: 0.1085 - acc: 0.968060000/60000 [==============================] - 77s 1ms/step - loss: 0.1040 - acc: 0.9695\n",
      "Epoch 3/30\n",
      "58496/60000 [============================>.] - ETA: 1s - loss: 0.0807 - acc: 0.975960000/60000 [==============================] - 77s 1ms/step - loss: 0.0813 - acc: 0.9757\n",
      "Epoch 4/30\n",
      "60000/60000 [==============================] - 77s 1ms/step - loss: 0.0699 - acc: 0.9789\n",
      "Epoch 5/30\n",
      " 5504/60000 [=>............................] - ETA: 1:10 - loss: 0.0598 - acc: 0.982660000/60000 [==============================] - 77s 1ms/step - loss: 0.0604 - acc: 0.9820\n",
      "Epoch 6/30\n",
      "44416/60000 [=====================>........] - ETA: 20s - loss: 0.0561 - acc: 0.982360000/60000 [==============================] - 77s 1ms/step - loss: 0.0575 - acc: 0.9825\n",
      "Epoch 7/30\n",
      "60000/60000 [==============================] - 77s 1ms/step - loss: 0.0513 - acc: 0.9841\n",
      "Epoch 8/30\n",
      " 1280/60000 [..............................] - ETA: 1:14 - loss: 0.0465 - acc: 0.985960000/60000 [==============================] - 77s 1ms/step - loss: 0.0485 - acc: 0.9857\n",
      "Epoch 9/30\n",
      "42496/60000 [====================>.........] - ETA: 22s - loss: 0.0444 - acc: 0.985860000/60000 [==============================] - 77s 1ms/step - loss: 0.0448 - acc: 0.9858\n",
      "Epoch 10/30\n",
      "60000/60000 [==============================] - 77s 1ms/step - loss: 0.0414 - acc: 0.9875\n",
      "Epoch 11/30\n",
      "  512/60000 [..............................] - ETA: 1:17 - loss: 0.0591 - acc: 0.982460000/60000 [==============================] - 77s 1ms/step - loss: 0.0426 - acc: 0.9869\n",
      "Epoch 12/30\n",
      "41856/60000 [===================>..........] - ETA: 23s - loss: 0.0400 - acc: 0.987460000/60000 [==============================] - 77s 1ms/step - loss: 0.0391 - acc: 0.9875\n",
      "Epoch 13/30\n",
      "60000/60000 [==============================] - 77s 1ms/step - loss: 0.0368 - acc: 0.9887\n",
      "Epoch 14/30\n",
      "  384/60000 [..............................] - ETA: 1:18 - loss: 0.0679 - acc: 0.981860000/60000 [==============================] - 77s 1ms/step - loss: 0.0328 - acc: 0.9896\n",
      "Epoch 15/30\n",
      "41856/60000 [===================>..........] - ETA: 23s - loss: 0.0317 - acc: 0.990360000/60000 [==============================] - 77s 1ms/step - loss: 0.0326 - acc: 0.9899\n",
      "Epoch 16/30\n",
      "60000/60000 [==============================] - 77s 1ms/step - loss: 0.0324 - acc: 0.9897\n",
      "Epoch 17/30\n",
      "  384/60000 [..............................] - ETA: 1:19 - loss: 0.0736 - acc: 0.984460000/60000 [==============================] - 77s 1ms/step - loss: 0.0318 - acc: 0.9902\n",
      "Epoch 18/30\n",
      "41856/60000 [===================>..........] - ETA: 23s - loss: 0.0304 - acc: 0.990060000/60000 [==============================] - 77s 1ms/step - loss: 0.0288 - acc: 0.9905\n",
      "Epoch 19/30\n",
      "60000/60000 [==============================] - 77s 1ms/step - loss: 0.0286 - acc: 0.9911\n",
      "Epoch 20/30\n",
      "  384/60000 [..............................] - ETA: 1:16 - loss: 0.0133 - acc: 0.997460000/60000 [==============================] - 77s 1ms/step - loss: 0.0266 - acc: 0.9911\n",
      "Epoch 21/30\n",
      "41856/60000 [===================>..........] - ETA: 23s - loss: 0.0274 - acc: 0.991560000/60000 [==============================] - 77s 1ms/step - loss: 0.0268 - acc: 0.9916\n",
      "Epoch 22/30\n",
      "60000/60000 [==============================] - 77s 1ms/step - loss: 0.0263 - acc: 0.9918\n",
      "Epoch 23/30\n",
      "  384/60000 [..............................] - ETA: 1:16 - loss: 0.0322 - acc: 0.994860000/60000 [==============================] - 77s 1ms/step - loss: 0.0247 - acc: 0.9922\n",
      "Epoch 24/30\n",
      "41856/60000 [===================>..........] - ETA: 23s - loss: 0.0218 - acc: 0.992260000/60000 [==============================] - 77s 1ms/step - loss: 0.0220 - acc: 0.9923\n",
      "Epoch 25/30\n",
      "60000/60000 [==============================] - 77s 1ms/step - loss: 0.0235 - acc: 0.9924\n",
      "Epoch 26/30\n",
      "  384/60000 [..............................] - ETA: 1:19 - loss: 0.0113 - acc: 0.994860000/60000 [==============================] - 77s 1ms/step - loss: 0.0216 - acc: 0.9930\n",
      "Epoch 27/30\n",
      "41856/60000 [===================>..........] - ETA: 23s - loss: 0.0222 - acc: 0.993260000/60000 [==============================] - 77s 1ms/step - loss: 0.0226 - acc: 0.9930\n",
      "Epoch 28/30\n",
      "60000/60000 [==============================] - 77s 1ms/step - loss: 0.0217 - acc: 0.9927\n",
      "Epoch 29/30\n",
      "  384/60000 [..............................] - ETA: 1:19 - loss: 0.0264 - acc: 0.984460000/60000 [==============================] - 77s 1ms/step - loss: 0.0219 - acc: 0.9929\n",
      "Epoch 30/30\n",
      "41856/60000 [===================>..........] - ETA: 23s - loss: 0.0226 - acc: 0.993060000/60000 [==============================] - 77s 1ms/step - loss: 0.0229 - acc: 0.9929\n"
     ]
    },
    {
     "data": {
      "text/plain": [
       "<keras.callbacks.History at 0x7f79efc26cc0>"
      ]
     },
     "execution_count": 10,
     "metadata": {
      "tags": []
     },
     "output_type": "execute_result"
    }
   ],
   "source": [
    "model.fit(X_train, y_train, \n",
    "          batch_size=batch_size, \n",
    "          epochs=epochs,\n",
    "          verbose=1,)"
   ]
  },
  {
   "cell_type": "code",
   "execution_count": 11,
   "metadata": {
    "colab": {
     "autoexec": {
      "startup": false,
      "wait_interval": 0
     },
     "base_uri": "https://localhost:8080/",
     "height": 51
    },
    "colab_type": "code",
    "executionInfo": {
     "elapsed": 3868,
     "status": "ok",
     "timestamp": 1528074752578,
     "user": {
      "displayName": "Jigar Bandaria",
      "photoUrl": "https://lh3.googleusercontent.com/a/default-user=s128",
      "userId": "107319791657086616041"
     },
     "user_tz": 240
    },
    "id": "DCjaREQbiYZn",
    "outputId": "b7d62073-24f4-488e-8e4b-853fe63c26ec"
   },
   "outputs": [
    {
     "name": "stdout",
     "output_type": "stream",
     "text": [
      "Test loss: 0.022168594618202087\n",
      "Test accuracy: 0.9931\n"
     ]
    }
   ],
   "source": [
    "score = model.evaluate(X_test, y_test, verbose=0)\n",
    "print('Test loss:', score[0])\n",
    "print('Test accuracy:', score[1])"
   ]
  },
  {
   "cell_type": "code",
   "execution_count": null,
   "metadata": {
    "colab": {
     "autoexec": {
      "startup": false,
      "wait_interval": 0
     }
    },
    "colab_type": "code",
    "id": "g79oi3lpkMVn"
   },
   "outputs": [],
   "source": []
  }
 ],
 "metadata": {
  "colab": {
   "collapsed_sections": [],
   "default_view": {},
   "name": "MNIST_NN_Covnet.ipynb",
   "provenance": [
    {
     "file_id": "1K_BWyjmpmARAkJ9bsAx_jewF0tNCTzKe",
     "timestamp": 1528066838234
    },
    {
     "file_id": "180pyDaAW8IxgdBYURwSGfIYETgIB-2wW",
     "timestamp": 1528062505568
    }
   ],
   "version": "0.3.2",
   "views": {}
  },
  "kernelspec": {
   "display_name": "Python 3",
   "language": "python",
   "name": "python3"
  },
  "language_info": {
   "codemirror_mode": {
    "name": "ipython",
    "version": 3
   },
   "file_extension": ".py",
   "mimetype": "text/x-python",
   "name": "python",
   "nbconvert_exporter": "python",
   "pygments_lexer": "ipython3",
   "version": "3.6.5"
  }
 },
 "nbformat": 4,
 "nbformat_minor": 2
}
