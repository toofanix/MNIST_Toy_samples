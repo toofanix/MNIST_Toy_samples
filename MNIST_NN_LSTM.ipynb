{
 "cells": [
  {
   "cell_type": "markdown",
   "metadata": {
    "colab_type": "text",
    "id": "68Zr_6L6ZZzF"
   },
   "source": [
    "# Case RNN"
   ]
  },
  {
   "cell_type": "code",
   "execution_count": null,
   "metadata": {
    "colab": {
     "autoexec": {
      "startup": false,
      "wait_interval": 0
     }
    },
    "colab_type": "code",
    "id": "0_4mYbCqV_Fz"
   },
   "outputs": [],
   "source": [
    "!pip install -q Keras"
   ]
  },
  {
   "cell_type": "code",
   "execution_count": null,
   "metadata": {
    "colab": {
     "autoexec": {
      "startup": false,
      "wait_interval": 0
     }
    },
    "colab_type": "code",
    "id": "N4Yn1ublWokR"
   },
   "outputs": [],
   "source": [
    "%matplotlib inline\n",
    "import matplotlib.pyplot as plt\n",
    "import numpy as np"
   ]
  },
  {
   "cell_type": "code",
   "execution_count": 3,
   "metadata": {
    "colab": {
     "autoexec": {
      "startup": false,
      "wait_interval": 0
     },
     "base_uri": "https://localhost:8080/",
     "height": 34
    },
    "colab_type": "code",
    "executionInfo": {
     "elapsed": 7522,
     "status": "ok",
     "timestamp": 1528464141313,
     "user": {
      "displayName": "Jigar Bandaria",
      "photoUrl": "https://lh3.googleusercontent.com/a/default-user=s128",
      "userId": "107319791657086616041"
     },
     "user_tz": 240
    },
    "id": "FlW649AYWvhD",
    "outputId": "bb9bb735-f234-40c3-fae6-481b955e928c"
   },
   "outputs": [
    {
     "name": "stderr",
     "output_type": "stream",
     "text": [
      "Using TensorFlow backend.\n"
     ]
    }
   ],
   "source": [
    "import keras\n",
    "from keras.datasets import mnist\n",
    "from keras.models import Sequential, Model\n",
    "from keras.layers import Dense, Dropout, Flatten\n",
    "from keras.layers import Conv2D, MaxPooling2D, LSTM\n",
    "from keras import backend as K\n",
    "from keras.utils import to_categorical\n"
   ]
  },
  {
   "cell_type": "code",
   "execution_count": 4,
   "metadata": {
    "colab": {
     "autoexec": {
      "startup": false,
      "wait_interval": 0
     },
     "base_uri": "https://localhost:8080/",
     "height": 51
    },
    "colab_type": "code",
    "executionInfo": {
     "elapsed": 1248,
     "status": "ok",
     "timestamp": 1528464142577,
     "user": {
      "displayName": "Jigar Bandaria",
      "photoUrl": "https://lh3.googleusercontent.com/a/default-user=s128",
      "userId": "107319791657086616041"
     },
     "user_tz": 240
    },
    "id": "FFPK9QkcXP3-",
    "outputId": "152ca83c-71a2-4861-a440-e281dbe4240e"
   },
   "outputs": [
    {
     "name": "stdout",
     "output_type": "stream",
     "text": [
      "Downloading data from https://s3.amazonaws.com/img-datasets/mnist.npz\n",
      "11493376/11490434 [==============================] - 1s 0us/step\n"
     ]
    }
   ],
   "source": [
    "(X_train, y_train), (X_test, y_test) = mnist.load_data()"
   ]
  },
  {
   "cell_type": "code",
   "execution_count": null,
   "metadata": {
    "colab": {
     "autoexec": {
      "startup": false,
      "wait_interval": 0
     }
    },
    "colab_type": "code",
    "id": "Lnq2QB2cmJ8m"
   },
   "outputs": [],
   "source": [
    "def plot_images(images, labels):\n",
    "    fig, axes = plt.subplots(5,5)\n",
    "    fig.subplots_adjust(hspace = 0.5,wspace = 0.5)\n",
    "    \n",
    "    for i,ax in zip(np.random.choice(range(images.shape[0]),25),axes.flat):\n",
    "        ax.imshow(images[i].reshape(28,28),cmap='binary')\n",
    "        ax.set_xlabel('label :{}'.format(labels[i]))\n",
    "        ax.set_xticks([])\n",
    "        ax.set_yticks([])"
   ]
  },
  {
   "cell_type": "code",
   "execution_count": 6,
   "metadata": {
    "colab": {
     "autoexec": {
      "startup": false,
      "wait_interval": 0
     },
     "base_uri": "https://localhost:8080/",
     "height": 262
    },
    "colab_type": "code",
    "executionInfo": {
     "elapsed": 1711,
     "status": "ok",
     "timestamp": 1528464144663,
     "user": {
      "displayName": "Jigar Bandaria",
      "photoUrl": "https://lh3.googleusercontent.com/a/default-user=s128",
      "userId": "107319791657086616041"
     },
     "user_tz": 240
    },
    "id": "neCJtnR6mS_O",
    "outputId": "564e60d4-babd-4c50-b2a7-15c119d20bcf"
   },
   "outputs": [
    {
     "data": {
      "image/png": "[encoded data removed]",
      "text/plain": [
       "<matplotlib.figure.Figure at 0x7fb60b709940>"
      ]
     },
     "metadata": {
      "tags": []
     },
     "output_type": "display_data"
    }
   ],
   "source": [
    "plot_images(X_train,y_train)"
   ]
  },
  {
   "cell_type": "code",
   "execution_count": null,
   "metadata": {
    "colab": {
     "autoexec": {
      "startup": false,
      "wait_interval": 0
     }
    },
    "colab_type": "code",
    "id": "uqPxJ1JEYD0-"
   },
   "outputs": [],
   "source": [
    "batch_size = 128\n",
    "num_classes = 10\n",
    "epochs = 30\n",
    "img_rows, img_cols = 28, 28\n",
    "n_neurons = 52"
   ]
  },
  {
   "cell_type": "code",
   "execution_count": 8,
   "metadata": {
    "colab": {
     "autoexec": {
      "startup": false,
      "wait_interval": 0
     },
     "base_uri": "https://localhost:8080/",
     "height": 85
    },
    "colab_type": "code",
    "executionInfo": {
     "elapsed": 436,
     "status": "ok",
     "timestamp": 1528464145422,
     "user": {
      "displayName": "Jigar Bandaria",
      "photoUrl": "https://lh3.googleusercontent.com/a/default-user=s128",
      "userId": "107319791657086616041"
     },
     "user_tz": 240
    },
    "id": "Z6AOk0P8ZM9f",
    "outputId": "5929226e-d9e1-4370-ad3f-9bc274380d49"
   },
   "outputs": [
    {
     "name": "stdout",
     "output_type": "stream",
     "text": [
      "Train images : (60000, 28, 28)\n",
      "Test images : (10000, 28, 28)\n",
      "Train labels : (60000, 10)\n",
      "Test labes : (10000, 10)\n"
     ]
    }
   ],
   "source": [
    "# X_train = X_train.reshape((X_train.shape[0], img_rows , img_cols, 1))\n",
    "# X_test =  X_test.reshape((X_test.shape[0] , img_rows , img_cols, 1))\n",
    "\n",
    "\n",
    "# Scale\n",
    "X_train = X_train.astype('float32')\n",
    "X_test = X_test.astype('float32')\n",
    "\n",
    "X_train /= 255\n",
    "X_test /= 255\n",
    "\n",
    "\n",
    "y_train = to_categorical(y_train, num_classes)\n",
    "y_test = to_categorical(y_test, num_classes)\n",
    "\n",
    "print('Train images : {}'.format(X_train.shape))\n",
    "print('Test images : {}'.format(X_test.shape))\n",
    "print('Train labels : {}'.format(y_train.shape))\n",
    "print('Test labes : {}'.format(y_test.shape))"
   ]
  },
  {
   "cell_type": "markdown",
   "metadata": {
    "colab_type": "text",
    "id": "H2tCiPZqas8j"
   },
   "source": [
    "# Model"
   ]
  },
  {
   "cell_type": "code",
   "execution_count": 9,
   "metadata": {
    "colab": {
     "autoexec": {
      "startup": false,
      "wait_interval": 0
     },
     "base_uri": "https://localhost:8080/",
     "height": 204
    },
    "colab_type": "code",
    "executionInfo": {
     "elapsed": 603,
     "status": "ok",
     "timestamp": 1528464146062,
     "user": {
      "displayName": "Jigar Bandaria",
      "photoUrl": "https://lh3.googleusercontent.com/a/default-user=s128",
      "userId": "107319791657086616041"
     },
     "user_tz": 240
    },
    "id": "fXZpqLfmax8b",
    "outputId": "5face865-7200-4741-8544-8ff8d4caf22a"
   },
   "outputs": [
    {
     "name": "stdout",
     "output_type": "stream",
     "text": [
      "_________________________________________________________________\n",
      "Layer (type)                 Output Shape              Param #   \n",
      "=================================================================\n",
      "lstm_1 (LSTM)                (None, 52)                16848     \n",
      "_________________________________________________________________\n",
      "dense_1 (Dense)              (None, 10)                530       \n",
      "=================================================================\n",
      "Total params: 17,378\n",
      "Trainable params: 17,378\n",
      "Non-trainable params: 0\n",
      "_________________________________________________________________\n"
     ]
    }
   ],
   "source": [
    "input_shape = (img_rows, img_cols)\n",
    "model = Sequential()\n",
    "model.add(LSTM(n_neurons, input_shape=input_shape))\n",
    "model.add(Dense(num_classes, activation='softmax'))\n",
    "\n",
    "\n",
    "# Compute loss and update\n",
    "model.compile(loss=keras.losses.categorical_crossentropy,\n",
    "             optimizer=keras.optimizers.SGD(lr=0.5),\n",
    "             metrics=['accuracy'])\n",
    "model.summary()"
   ]
  },
  {
   "cell_type": "code",
   "execution_count": 10,
   "metadata": {
    "colab": {
     "autoexec": {
      "startup": false,
      "wait_interval": 0
     },
     "base_uri": "https://localhost:8080/",
     "height": 1074
    },
    "colab_type": "code",
    "executionInfo": {
     "elapsed": 906102,
     "status": "ok",
     "timestamp": 1528465052185,
     "user": {
      "displayName": "Jigar Bandaria",
      "photoUrl": "https://lh3.googleusercontent.com/a/default-user=s128",
      "userId": "107319791657086616041"
     },
     "user_tz": 240
    },
    "id": "wv1dmcmga1-K",
    "outputId": "e4a7de9d-42bd-4238-c6cd-37e6f798283d"
   },
   "outputs": [
    {
     "name": "stdout",
     "output_type": "stream",
     "text": [
      "Epoch 1/30\n",
      "60000/60000 [==============================] - 32s 529us/step - loss: 0.8126 - acc: 0.7271\n",
      "Epoch 2/30\n",
      "34176/60000 [================>.............] - ETA: 12s - loss: 0.1951 - acc: 0.942460000/60000 [==============================] - 30s 499us/step - loss: 0.1771 - acc: 0.9474\n",
      "Epoch 3/30\n",
      "54656/60000 [==========================>...] - ETA: 2s - loss: 0.1191 - acc: 0.964860000/60000 [==============================] - 30s 503us/step - loss: 0.1183 - acc: 0.9652\n",
      "Epoch 4/30\n",
      "60000/60000 [==============================] - 30s 502us/step - loss: 0.0906 - acc: 0.9735\n",
      "Epoch 5/30\n",
      " 3072/60000 [>.............................] - ETA: 28s - loss: 0.0874 - acc: 0.973660000/60000 [==============================] - 30s 503us/step - loss: 0.0775 - acc: 0.9771\n",
      "Epoch 6/30\n",
      "41344/60000 [===================>..........] - ETA: 9s - loss: 0.0676 - acc: 0.98060000/60000 [==============================] - 30s 500us/step - loss: 0.0661 - acc: 0.9807\n",
      "Epoch 7/30\n",
      "59008/60000 [============================>.] - ETA: 0s - loss: 0.0572 - acc: 0.983060000/60000 [==============================] - 30s 500us/step - loss: 0.0570 - acc: 0.9830\n",
      "Epoch 8/30\n",
      "60000/60000 [==============================] - 31s 509us/step - loss: 0.0501 - acc: 0.9853\n",
      "Epoch 9/30\n",
      " 3968/60000 [>.............................] - ETA: 28s - loss: 0.0551 - acc: 0.981960000/60000 [==============================] - 30s 501us/step - loss: 0.0460 - acc: 0.9858\n",
      "Epoch 10/30\n",
      "60000/60000 [==============================] - 30s 502us/step - loss: 0.0421 - acc: 0.9874\n",
      "Epoch 11/30\n",
      "56832/60000 [===========================>..] - ETA: 1s - loss: 0.0382 - acc: 0.988460000/60000 [==============================] - 30s 506us/step - loss: 0.0383 - acc: 0.9883\n",
      "Epoch 12/30\n",
      "60000/60000 [==============================] - 30s 505us/step - loss: 0.0349 - acc: 0.9896\n",
      "Epoch 13/30\n",
      " 3456/60000 [>.............................] - ETA: 28s - loss: 0.0303 - acc: 0.990260000/60000 [==============================] - 30s 501us/step - loss: 0.0311 - acc: 0.9904\n",
      "Epoch 14/30\n",
      "40320/60000 [===================>..........] - ETA: 10s - loss: 0.0280 - acc: 0.991360000/60000 [==============================] - 31s 509us/step - loss: 0.0282 - acc: 0.9912\n",
      "Epoch 15/30\n",
      "57728/60000 [===========================>..] - ETA: 1s - loss: 0.0270 - acc: 0.991660000/60000 [==============================] - 30s 504us/step - loss: 0.0268 - acc: 0.9917\n",
      "Epoch 16/30\n",
      "60000/60000 [==============================] - 31s 509us/step - loss: 0.0243 - acc: 0.9930\n",
      "Epoch 17/30\n",
      " 2560/60000 [>.............................] - ETA: 30s - loss: 0.0261 - acc: 0.991860000/60000 [==============================] - 30s 506us/step - loss: 0.0246 - acc: 0.9922\n",
      "Epoch 18/30\n",
      "41088/60000 [===================>..........] - ETA: 9s - loss: 0.0223 - acc: 0.992960000/60000 [==============================] - 30s 502us/step - loss: 0.0214 - acc: 0.9932\n",
      "Epoch 19/30\n",
      "59520/60000 [============================>.] - ETA: 0s - loss: 0.0200 - acc: 0.993860000/60000 [==============================] - 30s 501us/step - loss: 0.0200 - acc: 0.9938\n",
      "Epoch 20/30\n",
      "60000/60000 [==============================] - 30s 500us/step - loss: 0.0172 - acc: 0.9947\n",
      "Epoch 21/30\n",
      " 4608/60000 [=>............................] - ETA: 27s - loss: 0.0208 - acc: 0.993560000/60000 [==============================] - 30s 499us/step - loss: 0.0195 - acc: 0.9940\n",
      "Epoch 22/30\n",
      "43008/60000 [====================>.........] - ETA: 8s - loss: 0.0141 - acc: 0.995860000/60000 [==============================] - 30s 501us/step - loss: 0.0152 - acc: 0.9954\n",
      "Epoch 23/30\n",
      "60000/60000 [==============================] - 30s 500us/step - loss: 0.0167 - acc: 0.9946\n",
      "Epoch 24/30\n",
      "60000/60000 [==============================] - 30s 498us/step - loss: 0.0158 - acc: 0.9952\n",
      "Epoch 25/30\n",
      "40448/60000 [===================>..........] - ETA: 9s - loss: 0.0138 - acc: 0.995760000/60000 [==============================] - 30s 498us/step - loss: 0.0139 - acc: 0.9956\n",
      "Epoch 26/30\n",
      "59136/60000 [============================>.] - ETA: 0s - loss: 0.0117 - acc: 0.996460000/60000 [==============================] - 30s 498us/step - loss: 0.0117 - acc: 0.9965\n",
      "Epoch 27/30\n",
      "60000/60000 [==============================] - 30s 497us/step - loss: 0.0096 - acc: 0.9974\n",
      "Epoch 28/30\n",
      " 4864/60000 [=>............................] - ETA: 27s - loss: 0.0129 - acc: 0.996360000/60000 [==============================] - 30s 500us/step - loss: 0.0107 - acc: 0.9970\n",
      "Epoch 29/30\n",
      "42240/60000 [====================>.........] - ETA: 8s - loss: 0.0101 - acc: 0.997160000/60000 [==============================] - 30s 500us/step - loss: 0.0120 - acc: 0.9964\n",
      "Epoch 30/30\n",
      "59520/60000 [============================>.] - ETA: 0s - loss: 0.0171 - acc: 0.994660000/60000 [==============================] - 30s 500us/step - loss: 0.0172 - acc: 0.9945\n"
     ]
    },
    {
     "data": {
      "text/plain": [
       "<keras.callbacks.History at 0x7fb649d40fd0>"
      ]
     },
     "execution_count": 10,
     "metadata": {
      "tags": []
     },
     "output_type": "execute_result"
    }
   ],
   "source": [
    "model.fit(X_train, y_train, \n",
    "          batch_size=batch_size, \n",
    "          epochs=epochs,\n",
    "          verbose=1,)"
   ]
  },
  {
   "cell_type": "code",
   "execution_count": 11,
   "metadata": {
    "colab": {
     "autoexec": {
      "startup": false,
      "wait_interval": 0
     },
     "base_uri": "https://localhost:8080/",
     "height": 51
    },
    "colab_type": "code",
    "executionInfo": {
     "elapsed": 5524,
     "status": "ok",
     "timestamp": 1528465163970,
     "user": {
      "displayName": "Jigar Bandaria",
      "photoUrl": "https://lh3.googleusercontent.com/a/default-user=s128",
      "userId": "107319791657086616041"
     },
     "user_tz": 240
    },
    "id": "DCjaREQbiYZn",
    "outputId": "93b6656a-22dd-4b98-cb45-dfc4551cca6f"
   },
   "outputs": [
    {
     "name": "stdout",
     "output_type": "stream",
     "text": [
      "Test loss: 0.09926832623634255\n",
      "Test accuracy: 0.9758\n"
     ]
    }
   ],
   "source": [
    "score = model.evaluate(X_test, y_test, verbose=0)\n",
    "print('Test loss:', score[0])\n",
    "print('Test accuracy:', score[1])"
   ]
  },
  {
   "cell_type": "code",
   "execution_count": null,
   "metadata": {
    "colab": {
     "autoexec": {
      "startup": false,
      "wait_interval": 0
     }
    },
    "colab_type": "code",
    "id": "g79oi3lpkMVn"
   },
   "outputs": [],
   "source": []
  }
 ],
 "metadata": {
  "accelerator": "GPU",
  "colab": {
   "collapsed_sections": [],
   "default_view": {},
   "name": "MNIST_NN_LSTM.ipynb",
   "provenance": [
    {
     "file_id": "1jiCW3ETdPb26_aBcJeue23_gw06tjgTp",
     "timestamp": 1528463734393
    },
    {
     "file_id": "1K_BWyjmpmARAkJ9bsAx_jewF0tNCTzKe",
     "timestamp": 1528066838234
    },
    {
     "file_id": "180pyDaAW8IxgdBYURwSGfIYETgIB-2wW",
     "timestamp": 1528062505568
    }
   ],
   "version": "0.3.2",
   "views": {}
  },
  "kernelspec": {
   "display_name": "Python 3",
   "language": "python",
   "name": "python3"
  },
  "language_info": {
   "codemirror_mode": {
    "name": "ipython",
    "version": 3
   },
   "file_extension": ".py",
   "mimetype": "text/x-python",
   "name": "python",
   "nbconvert_exporter": "python",
   "pygments_lexer": "ipython3",
   "version": "3.6.5"
  }
 },
 "nbformat": 4,
 "nbformat_minor": 2
}
